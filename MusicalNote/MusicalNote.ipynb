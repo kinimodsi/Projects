{
 "cells": [
  {
   "cell_type": "code",
   "execution_count": 3,
   "metadata": {},
   "outputs": [
    {
     "data": {
      "image/png": "[encoded data removed]",
      "text/plain": [
       "<Figure size 640x480 with 1 Axes>"
      ]
     },
     "metadata": {},
     "output_type": "display_data"
    }
   ],
   "source": [
    "\n",
    "import matplotlib.pyplot as plt \n",
    "from collections import deque \n",
    "import random \n",
    "from matplotlib.animation import FuncAnimation \n",
    "  \n",
    "# Create a fixed-length deque of length 50 to store the data points \n",
    "data_points = deque(maxlen=50) \n",
    "  \n",
    "# Create an empty plot \n",
    "fig, ax = plt.subplots() \n",
    "line, = ax.plot([]) \n",
    "# Set the x-axis and y-axis limits to 100 \n",
    "ax.set_xlim(0, 100) \n",
    "ax.set_ylim(0, 100) \n",
    "  \n",
    "# Create a scatter plot to visualize the data points \n",
    "scatter = ax.scatter([], []) \n",
    "  \n",
    "# Iterate through the data points and update the scatter plot \n",
    "for i in range(100): \n",
    "    # Generate and add data points to the deque \n",
    "    new_x = i \n",
    "    new_y = random.randint(0, 100) \n",
    "    data_points.append((new_x, new_y)) \n",
    "  \n",
    "    # Update the scatter plot with the new data points \n",
    "    x_values = [x for x, y in data_points] \n",
    "    y_values = [y for x, y in data_points] \n",
    "    scatter.set_offsets(list(zip(x_values, y_values))) \n",
    "    line.set_data(x_values, y_values) \n",
    "    plt.pause(0.01) \n",
    "# Save the animation as an animated GIF \n",
    "plt.show() "
   ]
  }
 ],
 "metadata": {
  "kernelspec": {
   "display_name": "Python 3",
   "language": "python",
   "name": "python3"
  },
  "language_info": {
   "codemirror_mode": {
    "name": "ipython",
    "version": 3
   },
   "file_extension": ".py",
   "mimetype": "text/x-python",
   "name": "python",
   "nbconvert_exporter": "python",
   "pygments_lexer": "ipython3",
   "version": "3.11.1"
  }
 },
 "nbformat": 4,
 "nbformat_minor": 2
}
