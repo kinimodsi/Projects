{
 "cells": [
  {
   "cell_type": "code",
   "execution_count": 14,
   "id": "bc48b52a-b75b-425a-81a2-3ea842ec2ebe",
   "metadata": {},
   "outputs": [],
   "source": [
    "import numpy as np\n",
    "import matplotlib.pyplot as plt\n",
    "import sympy\n",
    "from sympy import *\n",
    "from sympy.physics.mechanics import *\n",
    "from sympy import sqrt, Rational\n",
    "\n",
    "# enable LaTeX printing\n",
    "init_vprinting()"
   ]
  },
  {
   "cell_type": "code",
   "execution_count": 24,
   "id": "379bc2a8-0d26-4b34-93d6-b1af0b96eb15",
   "metadata": {},
   "outputs": [
    {
     "data": {
      "image/png": "[encoded data removed]",
      "text/latex": [
       "$\\displaystyle \\frac{G m_{1} m_{2}}{\\sqrt{\\left(- x_{1} + x_{2}\\right)^{2} + \\left(- y_{1} + y_{2}\\right)^{2}}} + \\frac{m_{1} \\left(\\dot{x}_{1}^{2} + \\dot{y}_{1}^{2}\\right)}{2} + \\frac{m_{2} \\left(\\dot{x}_{2}^{2} + \\dot{y}_{2}^{2}\\right)}{2}$"
      ],
      "text/plain": [
       "                                    ⎛  2     2⎞      ⎛  2     2⎞\n",
       "           G⋅m₁⋅m₂               m₁⋅⎝x₁̇  + y₁̇ ⎠   m₂⋅⎝x₂̇  + y₂̇ ⎠\n",
       "────────────────────────────── + ────────────── + ──────────────\n",
       "   ___________________________         2                2       \n",
       "  ╱           2             2                                   \n",
       "╲╱  (-x₁ + x₂)  + (-y₁ + y₂)                                    "
      ]
     },
     "execution_count": 24,
     "metadata": {},
     "output_type": "execute_result"
    }
   ],
   "source": [
    "# create symbolic variables\n",
    "m_1, m_2, G, t = symbols('m_1 m_2 G t')\n",
    "\n",
    "#dynamic_symbols:\n",
    "x_1, y_1, x_2, y_2 = dynamicsymbols('x_1 y_1 x_2 y_2')\n",
    "\n",
    "def mag(x,y):\n",
    "    mean = sympy.sqrt(x**2+y**2)\n",
    "    return mean\n",
    "\n",
    "#calculate distance d:\n",
    "d=mag((x_2-x_1),(y_2-y_1))\n",
    "\n",
    "# derivatives\n",
    "x_1_dot = diff(x_1, t)\n",
    "x_1_ddot = diff(x_1_dot, t)\n",
    "\n",
    "x_2_dot = diff(x_2, t)\n",
    "x_2_ddot = diff(x_2_dot, t)\n",
    "\n",
    "y_1_dot = diff(y_1, t)\n",
    "y_1_ddot = diff(y_1_dot, t)\n",
    "\n",
    "y_2_dot = diff(y_2, t)\n",
    "y_2_ddot = diff(y_2_dot, t)\n",
    "\n",
    "# Lagrangian\n",
    "T = Rational(1,2)*(m_1*(mag(x_1_dot , y_1_dot))**2+m_2*(mag(x_2_dot , y_2_dot))**2)\n",
    "V = -G*(m_1*m_2)/d\n",
    "L = T - V\n",
    "L"
   ]
  },
  {
   "cell_type": "code",
   "execution_count": 25,
   "id": "417b995f-b779-41d2-b24f-702359a5a137",
   "metadata": {},
   "outputs": [
    {
     "data": {
      "text/latex": [
       "$\\displaystyle \\left[\\begin{matrix}\\dot{x}_{1}\\\\\\ddot{x}_{1}\\\\\\dot{x}_{2}\\\\\\ddot{x}_{2}\\\\\\dot{y}_{1}\\\\\\ddot{y}_{1}\\\\\\dot{y}_{2}\\\\\\ddot{y}_{2}\\end{matrix}\\right] = \\left[\\begin{matrix}\\dot{x}_{1}\\\\\\frac{G m_{2} \\left(- x_{1} + x_{2}\\right)}{\\left(x_{1}^{2} - 2 x_{1} x_{2} + x_{2}^{2} + y_{1}^{2} - 2 y_{1} y_{2} + y_{2}^{2}\\right)^{\\frac{3}{2}}}\\\\\\dot{x}_{2}\\\\\\frac{G m_{1} \\left(x_{1} - x_{2}\\right)}{\\left(x_{1}^{2} - 2 x_{1} x_{2} + x_{2}^{2} + y_{1}^{2} - 2 y_{1} y_{2} + y_{2}^{2}\\right)^{\\frac{3}{2}}}\\\\\\dot{y}_{1}\\\\\\frac{G m_{2} \\left(- y_{1} + y_{2}\\right)}{\\left(x_{1}^{2} - 2 x_{1} x_{2} + x_{2}^{2} + y_{1}^{2} - 2 y_{1} y_{2} + y_{2}^{2}\\right)^{\\frac{3}{2}}}\\\\\\dot{y}_{2}\\\\\\frac{G m_{1} \\left(y_{1} - y_{2}\\right)}{\\left(x_{1}^{2} - 2 x_{1} x_{2} + x_{2}^{2} + y_{1}^{2} - 2 y_{1} y_{2} + y_{2}^{2}\\right)^{\\frac{3}{2}}}\\end{matrix}\\right]$"
      ],
      "text/plain": [
       "       ⎡                      x₁̇                      ⎤\n",
       "       ⎢                                              ⎥\n",
       "       ⎢               G⋅m₂⋅(-x₁ + x₂)                ⎥\n",
       "       ⎢──────────────────────────────────────────────⎥\n",
       "       ⎢                                           3/2⎥\n",
       "       ⎢⎛  2               2     2               2⎞   ⎥\n",
       "       ⎢⎝x₁  - 2⋅x₁⋅x₂ + x₂  + y₁  - 2⋅y₁⋅y₂ + y₂ ⎠   ⎥\n",
       "       ⎢                                              ⎥\n",
       "⎡x₁̇⎤   ⎢                      x₂̇                      ⎥\n",
       "⎢  ⎥   ⎢                                              ⎥\n",
       "⎢x₁̈⎥   ⎢                G⋅m₁⋅(x₁ - x₂)                ⎥\n",
       "⎢  ⎥   ⎢──────────────────────────────────────────────⎥\n",
       "⎢x₂̇⎥   ⎢                                           3/2⎥\n",
       "⎢  ⎥   ⎢⎛  2               2     2               2⎞   ⎥\n",
       "⎢x₂̈⎥   ⎢⎝x₁  - 2⋅x₁⋅x₂ + x₂  + y₁  - 2⋅y₁⋅y₂ + y₂ ⎠   ⎥\n",
       "⎢  ⎥ = ⎢                                              ⎥\n",
       "⎢y₁̇⎥   ⎢                      y₁̇                      ⎥\n",
       "⎢  ⎥   ⎢                                              ⎥\n",
       "⎢y₁̈⎥   ⎢               G⋅m₂⋅(-y₁ + y₂)                ⎥\n",
       "⎢  ⎥   ⎢──────────────────────────────────────────────⎥\n",
       "⎢y₂̇⎥   ⎢                                           3/2⎥\n",
       "⎢  ⎥   ⎢⎛  2               2     2               2⎞   ⎥\n",
       "⎣y₂̈⎦   ⎢⎝x₁  - 2⋅x₁⋅x₂ + x₂  + y₁  - 2⋅y₁⋅y₂ + y₂ ⎠   ⎥\n",
       "       ⎢                                              ⎥\n",
       "       ⎢                      y₂̇                      ⎥\n",
       "       ⎢                                              ⎥\n",
       "       ⎢                G⋅m₁⋅(y₁ - y₂)                ⎥\n",
       "       ⎢──────────────────────────────────────────────⎥\n",
       "       ⎢                                           3/2⎥\n",
       "       ⎢⎛  2               2     2               2⎞   ⎥\n",
       "       ⎣⎝x₁  - 2⋅x₁⋅x₂ + x₂  + y₁  - 2⋅y₁⋅y₂ + y₂ ⎠   ⎦"
      ]
     },
     "execution_count": 25,
     "metadata": {},
     "output_type": "execute_result"
    }
   ],
   "source": [
    "# Euler-Lagrange Equation\n",
    "eqn_1 = diff( diff(L,x_1_dot), t) - diff(L, x_1)\n",
    "eqn_2 = diff( diff(L,x_2_dot), t) - diff(L, x_2)\n",
    "eqn_3 = diff( diff(L,y_1_dot), t) - diff(L, y_1)\n",
    "eqn_4 = diff( diff(L,y_2_dot), t) - diff(L, y_2)\n",
    "sln = solve([eqn_1, eqn_2, eqn_3, eqn_4], [x_1_ddot, x_2_ddot, y_1_ddot, y_2_ddot])\n",
    "\n",
    "# show the solution\n",
    "f = Matrix([x_1_dot, sln[x_1_ddot], x_2_dot, sln[x_2_ddot], y_1_dot, sln[y_1_ddot], y_2_dot, sln[y_2_ddot]])\n",
    "f = simplify(f)\n",
    "x = Matrix([x_1, x_1_dot, x_2, x_2_dot, y_1, y_1_dot, y_2, y_2_dot])\n",
    "x_dot = diff(x,t)\n",
    "\n",
    "Eq(x_dot, f)"
   ]
  },
  {
   "cell_type": "code",
   "execution_count": 26,
   "id": "04bf17c5-44e8-42ec-9c29-5e497899c852",
   "metadata": {},
   "outputs": [
    {
     "name": "stdout",
     "output_type": "stream",
     "text": [
      "f[0] = x_1_dot\n",
      "f[1] = G*m_2*(-x_1 + x_2)/(x_1**2 - 2*x_1*x_2 + x_2**2 + y_1**2 - 2*y_1*y_2 + y_2**2)**(3/2)\n",
      "f[2] = x_2_dot\n",
      "f[3] = G*m_1*(x_1 - x_2)/(x_1**2 - 2*x_1*x_2 + x_2**2 + y_1**2 - 2*y_1*y_2 + y_2**2)**(3/2)\n",
      "f[4] = y_1_dot\n",
      "f[5] = G*m_2*(-y_1 + y_2)/(x_1**2 - 2*x_1*x_2 + x_2**2 + y_1**2 - 2*y_1*y_2 + y_2**2)**(3/2)\n",
      "f[6] = y_2_dot\n",
      "f[7] = G*m_1*(y_1 - y_2)/(x_1**2 - 2*x_1*x_2 + x_2**2 + y_1**2 - 2*y_1*y_2 + y_2**2)**(3/2)\n"
     ]
    }
   ],
   "source": [
    "g = f.subs({x_1: 'x_1', x_1_dot: 'x_1_dot', x_2: 'x_2', x_2_dot: 'x_2_dot', y_1: 'y_1', y_1_dot: 'y_1_dot', y_2: 'y_2', y_2_dot: 'y_2_dot'})\n",
    "for i in range(8):\n",
    "    print('f[{}] = {}'.format(i, g[i]))\n"
   ]
  },
  {
   "cell_type": "code",
   "execution_count": null,
   "id": "338ccd07-4666-47ae-b4d2-546387036275",
   "metadata": {},
   "outputs": [],
   "source": []
  }
 ],
 "metadata": {
  "kernelspec": {
   "display_name": "Python 3 (ipykernel)",
   "language": "python",
   "name": "python3"
  },
  "language_info": {
   "codemirror_mode": {
    "name": "ipython",
    "version": 3
   },
   "file_extension": ".py",
   "mimetype": "text/x-python",
   "name": "python",
   "nbconvert_exporter": "python",
   "pygments_lexer": "ipython3",
   "version": "3.11.1"
  }
 },
 "nbformat": 4,
 "nbformat_minor": 5
}
