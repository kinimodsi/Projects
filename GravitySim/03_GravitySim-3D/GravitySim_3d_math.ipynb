{
 "cells": [
  {
   "cell_type": "code",
   "execution_count": 2,
   "id": "bc48b52a-b75b-425a-81a2-3ea842ec2ebe",
   "metadata": {},
   "outputs": [],
   "source": [
    "import numpy as np\n",
    "import matplotlib.pyplot as plt\n",
    "import sympy\n",
    "from sympy import *\n",
    "from sympy.physics.mechanics import *\n",
    "from sympy import sqrt, Rational\n",
    "\n",
    "# enable LaTeX printing\n",
    "init_vprinting()"
   ]
  },
  {
   "cell_type": "code",
   "execution_count": 5,
   "id": "379bc2a8-0d26-4b34-93d6-b1af0b96eb15",
   "metadata": {},
   "outputs": [
    {
     "data": {
      "image/png": "[encoded data removed]",
      "text/latex": [
       "$\\displaystyle \\frac{G m_{1} m_{2}}{\\sqrt{\\left(x_{1} - x_{2}\\right)^{2} + \\left(y_{1} - y_{2}\\right)^{2} + \\left(z_{1} - z_{2}\\right)^{2}}} + \\frac{m_{1} \\dot{x}_{1}^{2}}{2} + \\frac{m_{1} \\dot{y}_{1}^{2}}{2} + \\frac{m_{1} \\dot{z}_{1}^{2}}{2} + \\frac{m_{2} \\dot{x}_{2}^{2}}{2} + \\frac{m_{2} \\dot{y}_{2}^{2}}{2} + \\frac{m_{2} \\dot{z}_{2}^{2}}{2}$"
      ],
      "text/plain": [
       "                                                 2        2        2        2 \n",
       "                 G⋅m₁⋅m₂                    m₁⋅x₁̇    m₁⋅y₁̇    m₁⋅z₁̇    m₂⋅x\n",
       "───────────────────────────────────────── + ────── + ────── + ────── + ────── \n",
       "   ______________________________________     2        2        2        2    \n",
       "  ╱          2            2            2                                      \n",
       "╲╱  (x₁ - x₂)  + (y₁ - y₂)  + (z₁ - z₂)                                       \n",
       "\n",
       "       2        2\n",
       "₂̇    m₂⋅y₂̇    m₂⋅z₂̇ \n",
       "+ ────── + ──────\n",
       "    2        2   \n",
       "                 \n",
       "                 "
      ]
     },
     "execution_count": 5,
     "metadata": {},
     "output_type": "execute_result"
    }
   ],
   "source": [
    "# create symbolic variables\n",
    "m_1, m_2, G, t = symbols('m_1 m_2 G t')\n",
    "\n",
    "# dynamic symbols\n",
    "x_1, y_1, z_1, x_2, y_2, z_2 = dynamicsymbols('x_1 y_1 z_1 x_2 y_2 z_2')\n",
    "\n",
    "def mag(x, y, z):\n",
    "    mean = sqrt(x**2 + y**2 + z**2)\n",
    "    return mean\n",
    "\n",
    "# calculate distance d:\n",
    "d = mag((x_2 - x_1), (y_2 - y_1), (z_2 - z_1))\n",
    "\n",
    "# derivatives\n",
    "x_1_dot = diff(x_1, t)\n",
    "x_1_ddot = diff(x_1_dot, t)\n",
    "\n",
    "x_2_dot = diff(x_2, t)\n",
    "x_2_ddot = diff(x_2_dot, t)\n",
    "\n",
    "y_1_dot = diff(y_1, t)\n",
    "y_1_ddot = diff(y_1_dot, t)\n",
    "\n",
    "y_2_dot = diff(y_2, t)\n",
    "y_2_ddot = diff(y_2_dot, t)\n",
    "\n",
    "z_1_dot = diff(z_1, t)\n",
    "z_1_ddot = diff(z_1_dot, t)\n",
    "\n",
    "z_2_dot = diff(z_2, t)\n",
    "z_2_ddot = diff(z_2_dot, t)\n",
    "\n",
    "# Lagrangian\n",
    "T = Rational(1,2)*(m_1*(mag(x_1_dot, y_1_dot, z_1_dot))**2 + m_2*(mag(x_2_dot, y_2_dot, z_2_dot))**2)\n",
    "V = -G*(m_1*m_2)/d\n",
    "L = T - V\n",
    "\n",
    "# Simplify the Lagrangian\n",
    "L = simplify(L)\n",
    "L"
   ]
  },
  {
   "cell_type": "code",
   "execution_count": 7,
   "id": "417b995f-b779-41d2-b24f-702359a5a137",
   "metadata": {},
   "outputs": [
    {
     "data": {
      "text/latex": [
       "$\\displaystyle \\left[\\begin{matrix}\\dot{x}_{1}\\\\\\ddot{x}_{1}\\\\\\dot{x}_{2}\\\\\\ddot{x}_{2}\\\\\\dot{y}_{1}\\\\\\ddot{y}_{1}\\\\\\dot{y}_{2}\\\\\\ddot{y}_{2}\\\\\\dot{z}_{1}\\\\\\ddot{z}_{1}\\\\\\dot{z}_{2}\\\\\\ddot{z}_{2}\\end{matrix}\\right] = \\left[\\begin{matrix}\\dot{x}_{1}\\\\\\frac{G m_{2} \\left(- x_{1} + x_{2}\\right)}{\\left(x_{1}^{2} - 2 x_{1} x_{2} + x_{2}^{2} + y_{1}^{2} - 2 y_{1} y_{2} + y_{2}^{2} + z_{1}^{2} - 2 z_{1} z_{2} + z_{2}^{2}\\right)^{\\frac{3}{2}}}\\\\\\dot{x}_{2}\\\\\\frac{G m_{1} \\left(x_{1} - x_{2}\\right)}{\\left(x_{1}^{2} - 2 x_{1} x_{2} + x_{2}^{2} + y_{1}^{2} - 2 y_{1} y_{2} + y_{2}^{2} + z_{1}^{2} - 2 z_{1} z_{2} + z_{2}^{2}\\right)^{\\frac{3}{2}}}\\\\\\dot{y}_{1}\\\\\\frac{G m_{2} \\left(- y_{1} + y_{2}\\right)}{\\left(x_{1}^{2} - 2 x_{1} x_{2} + x_{2}^{2} + y_{1}^{2} - 2 y_{1} y_{2} + y_{2}^{2} + z_{1}^{2} - 2 z_{1} z_{2} + z_{2}^{2}\\right)^{\\frac{3}{2}}}\\\\\\dot{y}_{2}\\\\\\frac{G m_{1} \\left(y_{1} - y_{2}\\right)}{\\left(x_{1}^{2} - 2 x_{1} x_{2} + x_{2}^{2} + y_{1}^{2} - 2 y_{1} y_{2} + y_{2}^{2} + z_{1}^{2} - 2 z_{1} z_{2} + z_{2}^{2}\\right)^{\\frac{3}{2}}}\\\\\\dot{z}_{1}\\\\\\frac{G m_{2} \\left(- z_{1} + z_{2}\\right)}{\\left(x_{1}^{2} - 2 x_{1} x_{2} + x_{2}^{2} + y_{1}^{2} - 2 y_{1} y_{2} + y_{2}^{2} + z_{1}^{2} - 2 z_{1} z_{2} + z_{2}^{2}\\right)^{\\frac{3}{2}}}\\\\\\dot{z}_{2}\\\\\\frac{G m_{1} \\left(z_{1} - z_{2}\\right)}{\\left(x_{1}^{2} - 2 x_{1} x_{2} + x_{2}^{2} + y_{1}^{2} - 2 y_{1} y_{2} + y_{2}^{2} + z_{1}^{2} - 2 z_{1} z_{2} + z_{2}^{2}\\right)^{\\frac{3}{2}}}\\end{matrix}\\right]$"
      ],
      "text/plain": [
       "       ⎡                                 x₁̇                                 ⎤\n",
       "       ⎢                                                                    ⎥\n",
       "       ⎢                          G⋅m₂⋅(-x₁ + x₂)                           ⎥\n",
       "       ⎢────────────────────────────────────────────────────────────────────⎥\n",
       "       ⎢                                                                 3/2⎥\n",
       "       ⎢⎛  2               2     2               2     2               2⎞   ⎥\n",
       "       ⎢⎝x₁  - 2⋅x₁⋅x₂ + x₂  + y₁  - 2⋅y₁⋅y₂ + y₂  + z₁  - 2⋅z₁⋅z₂ + z₂ ⎠   ⎥\n",
       "       ⎢                                                                    ⎥\n",
       "       ⎢                                 x₂̇                                 ⎥\n",
       "       ⎢                                                                    ⎥\n",
       "       ⎢                           G⋅m₁⋅(x₁ - x₂)                           ⎥\n",
       "       ⎢────────────────────────────────────────────────────────────────────⎥\n",
       "⎡x₁̇⎤   ⎢                                                                 3/2⎥\n",
       "⎢  ⎥   ⎢⎛  2               2     2               2     2               2⎞   ⎥\n",
       "⎢x₁̈⎥   ⎢⎝x₁  - 2⋅x₁⋅x₂ + x₂  + y₁  - 2⋅y₁⋅y₂ + y₂  + z₁  - 2⋅z₁⋅z₂ + z₂ ⎠   ⎥\n",
       "⎢  ⎥   ⎢                                                                    ⎥\n",
       "⎢x₂̇⎥   ⎢                                 y₁̇                                 ⎥\n",
       "⎢  ⎥   ⎢                                                                    ⎥\n",
       "⎢x₂̈⎥   ⎢                          G⋅m₂⋅(-y₁ + y₂)                           ⎥\n",
       "⎢  ⎥   ⎢────────────────────────────────────────────────────────────────────⎥\n",
       "⎢y₁̇⎥   ⎢                                                                 3/2⎥\n",
       "⎢  ⎥   ⎢⎛  2               2     2               2     2               2⎞   ⎥\n",
       "⎢y₁̈⎥   ⎢⎝x₁  - 2⋅x₁⋅x₂ + x₂  + y₁  - 2⋅y₁⋅y₂ + y₂  + z₁  - 2⋅z₁⋅z₂ + z₂ ⎠   ⎥\n",
       "⎢  ⎥ = ⎢                                                                    ⎥\n",
       "⎢y₂̇⎥   ⎢                                 y₂̇                                 ⎥\n",
       "⎢  ⎥   ⎢                                                                    ⎥\n",
       "⎢y₂̈⎥   ⎢                           G⋅m₁⋅(y₁ - y₂)                           ⎥\n",
       "⎢  ⎥   ⎢────────────────────────────────────────────────────────────────────⎥\n",
       "⎢z₁̇⎥   ⎢                                                                 3/2⎥\n",
       "⎢  ⎥   ⎢⎛  2               2     2               2     2               2⎞   ⎥\n",
       "⎢z₁̈⎥   ⎢⎝x₁  - 2⋅x₁⋅x₂ + x₂  + y₁  - 2⋅y₁⋅y₂ + y₂  + z₁  - 2⋅z₁⋅z₂ + z₂ ⎠   ⎥\n",
       "⎢  ⎥   ⎢                                                                    ⎥\n",
       "⎢z₂̇⎥   ⎢                                 z₁̇                                 ⎥\n",
       "⎢  ⎥   ⎢                                                                    ⎥\n",
       "⎣z₂̈⎦   ⎢                          G⋅m₂⋅(-z₁ + z₂)                           ⎥\n",
       "       ⎢────────────────────────────────────────────────────────────────────⎥\n",
       "       ⎢                                                                 3/2⎥\n",
       "       ⎢⎛  2               2     2               2     2               2⎞   ⎥\n",
       "       ⎢⎝x₁  - 2⋅x₁⋅x₂ + x₂  + y₁  - 2⋅y₁⋅y₂ + y₂  + z₁  - 2⋅z₁⋅z₂ + z₂ ⎠   ⎥\n",
       "       ⎢                                                                    ⎥\n",
       "       ⎢                                 z₂̇                                 ⎥\n",
       "       ⎢                                                                    ⎥\n",
       "       ⎢                           G⋅m₁⋅(z₁ - z₂)                           ⎥\n",
       "       ⎢────────────────────────────────────────────────────────────────────⎥\n",
       "       ⎢                                                                 3/2⎥\n",
       "       ⎢⎛  2               2     2               2     2               2⎞   ⎥\n",
       "       ⎣⎝x₁  - 2⋅x₁⋅x₂ + x₂  + y₁  - 2⋅y₁⋅y₂ + y₂  + z₁  - 2⋅z₁⋅z₂ + z₂ ⎠   ⎦"
      ]
     },
     "execution_count": 7,
     "metadata": {},
     "output_type": "execute_result"
    }
   ],
   "source": [
    "# Euler-Lagrange Equation\n",
    "eqn_1 = diff(diff(L, x_1_dot), t) - diff(L, x_1)\n",
    "eqn_2 = diff(diff(L, x_2_dot), t) - diff(L, x_2)\n",
    "eqn_3 = diff(diff(L, y_1_dot), t) - diff(L, y_1)\n",
    "eqn_4 = diff(diff(L, y_2_dot), t) - diff(L, y_2)\n",
    "eqn_5 = diff(diff(L, z_1_dot), t) - diff(L, z_1)\n",
    "eqn_6 = diff(diff(L, z_2_dot), t) - diff(L, z_2)\n",
    "sln = solve([eqn_1, eqn_2, eqn_3, eqn_4, eqn_5, eqn_6], [x_1_ddot, x_2_ddot, y_1_ddot, y_2_ddot, z_1_ddot, z_2_ddot])\n",
    "\n",
    "# show the solution\n",
    "f = Matrix([x_1_dot, sln[x_1_ddot], x_2_dot, sln[x_2_ddot], y_1_dot, sln[y_1_ddot], y_2_dot, sln[y_2_ddot], z_1_dot, sln[z_1_ddot], z_2_dot, sln[z_2_ddot]])\n",
    "f = simplify(f)\n",
    "x = Matrix([x_1, x_1_dot, x_2, x_2_dot, y_1, y_1_dot, y_2, y_2_dot, z_1, z_1_dot, z_2, z_2_dot])\n",
    "x_dot = diff(x, t)\n",
    "\n",
    "Eq(x_dot, f)"
   ]
  },
  {
   "cell_type": "code",
   "execution_count": 24,
   "id": "04bf17c5-44e8-42ec-9c29-5e497899c852",
   "metadata": {},
   "outputs": [
    {
     "name": "stdout",
     "output_type": "stream",
     "text": [
      "f[0] = x_1_dot\n",
      "f[1] = G*m_2*(-x_1 + x_2)/(x_1**2 - 2*x_1*x_2 + x_2**2 + y_1**2 - 2*y_1*y_2 + y_2**2 + z_1**2 - 2*z_1*z_2 + z_2**2)**(3/2)\n",
      "f[2] = x_2_dot\n",
      "f[3] = G*m_1*(x_1 - x_2)/(x_1**2 - 2*x_1*x_2 + x_2**2 + y_1**2 - 2*y_1*y_2 + y_2**2 + z_1**2 - 2*z_1*z_2 + z_2**2)**(3/2)\n",
      "f[4] = y_1_dot\n",
      "f[5] = G*m_2*(-y_1 + y_2)/(x_1**2 - 2*x_1*x_2 + x_2**2 + y_1**2 - 2*y_1*y_2 + y_2**2 + z_1**2 - 2*z_1*z_2 + z_2**2)**(3/2)\n",
      "f[6] = y_2_dot\n",
      "f[7] = G*m_1*(y_1 - y_2)/(x_1**2 - 2*x_1*x_2 + x_2**2 + y_1**2 - 2*y_1*y_2 + y_2**2 + z_1**2 - 2*z_1*z_2 + z_2**2)**(3/2)\n",
      "f[8] = z_1_dot\n",
      "f[9] = G*m_2*(-z_1 + z_2)/(x_1**2 - 2*x_1*x_2 + x_2**2 + y_1**2 - 2*y_1*y_2 + y_2**2 + z_1**2 - 2*z_1*z_2 + z_2**2)**(3/2)\n",
      "f[10] = z_2_dot\n",
      "f[11] = G*m_1*(z_1 - z_2)/(x_1**2 - 2*x_1*x_2 + x_2**2 + y_1**2 - 2*y_1*y_2 + y_2**2 + z_1**2 - 2*z_1*z_2 + z_2**2)**(3/2)\n",
      "Stored 'ODE' (tuple)\n"
     ]
    }
   ],
   "source": [
    "g = f.subs({x_1: 'x_1', x_1_dot: 'x_1_dot', x_2: 'x_2', x_2_dot: 'x_2_dot', y_1: 'y_1', y_1_dot: 'y_1_dot', y_2: 'y_2', y_2_dot: 'y_2_dot', z_1: 'z_1', z_1_dot: 'z_1_dot', z_2: 'z_2', z_2_dot: 'z_2_dot'})\n",
    "ODE=[]\n",
    "for i in range(12):\n",
    "    ODE.append(g[i])\n",
    "    print('f[{}] = {}'.format(i, g[i]))\n",
    "ODE = tuple(ODE)\n",
    "%store ODE\n"
   ]
  },
  {
   "cell_type": "code",
   "execution_count": null,
   "id": "338ccd07-4666-47ae-b4d2-546387036275",
   "metadata": {},
   "outputs": [],
   "source": []
  }
 ],
 "metadata": {
  "kernelspec": {
   "display_name": "Python 3 (ipykernel)",
   "language": "python",
   "name": "python3"
  },
  "language_info": {
   "codemirror_mode": {
    "name": "ipython",
    "version": 3
   },
   "file_extension": ".py",
   "mimetype": "text/x-python",
   "name": "python",
   "nbconvert_exporter": "python",
   "pygments_lexer": "ipython3",
   "version": "3.11.3"
  }
 },
 "nbformat": 4,
 "nbformat_minor": 5
}
