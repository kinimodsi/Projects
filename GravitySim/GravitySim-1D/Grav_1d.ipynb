{
 "cells": [
  {
   "cell_type": "code",
   "execution_count": 1,
   "id": "bc48b52a-b75b-425a-81a2-3ea842ec2ebe",
   "metadata": {},
   "outputs": [],
   "source": [
    "import numpy as np\n",
    "import matplotlib.pyplot as plt\n",
    "from sympy import *\n",
    "from sympy.physics.mechanics import *\n",
    "\n",
    "# enable LaTeX printing\n",
    "init_vprinting()"
   ]
  },
  {
   "cell_type": "code",
   "execution_count": 2,
   "id": "379bc2a8-0d26-4b34-93d6-b1af0b96eb15",
   "metadata": {},
   "outputs": [
    {
     "data": {
      "image/png": "[encoded data removed]",
      "text/latex": [
       "$\\displaystyle \\frac{G m_{1} m_{2}}{- x_{1} + x_{2}} + 0.5 m_{1} \\dot{x}_{1}^{2} + 0.5 m_{2} \\dot{x}_{2}^{2}$"
      ],
      "text/plain": [
       "G⋅m₁⋅m₂             2            2\n",
       "──────── + 0.5⋅m₁⋅x₁̇  + 0.5⋅m₂⋅x₂̇ \n",
       "-x₁ + x₂                          "
      ]
     },
     "execution_count": 2,
     "metadata": {},
     "output_type": "execute_result"
    }
   ],
   "source": [
    "# create symbolic variables\n",
    "m_1, m_2, G, t = symbols('m_1 m_2 G t')\n",
    "\n",
    "#dynamic_symbols:\n",
    "x_1, x_2 = dynamicsymbols('x_1 x_2')\n",
    "\n",
    "#define distance d:\n",
    "d=x_2-x_1\n",
    "#F_g = G(m1*m2)/d**2\n",
    "# x_1=1\n",
    "# x_2=1\n",
    "# m_1=1\n",
    "# m_2=1\n",
    "# derivative\n",
    "x_1_dot = diff(x_1, t)\n",
    "x_1_ddot = diff(x_1_dot, t)\n",
    "\n",
    "x_2_dot = diff(x_2, t)\n",
    "x_2_ddot = diff(x_2_dot, t)\n",
    "\n",
    "# Lagrangian\n",
    "T = 1/2*(m_1*x_1_dot**2+m_2*x_2_dot**2)\n",
    "V = -G*(m_1*m_2)/d\n",
    "L = T - V\n",
    "L"
   ]
  },
  {
   "cell_type": "code",
   "execution_count": 3,
   "id": "417b995f-b779-41d2-b24f-702359a5a137",
   "metadata": {},
   "outputs": [
    {
     "data": {
      "text/latex": [
       "$\\displaystyle \\left[\\begin{matrix}\\dot{x}_{1}\\\\\\ddot{x}_{1}\\\\\\dot{x}_{2}\\\\\\ddot{x}_{2}\\end{matrix}\\right] = \\left[\\begin{matrix}\\dot{x}_{1}\\\\\\frac{G m_{2}}{x_{1}^{2} - 2.0 x_{1} x_{2} + x_{2}^{2}}\\\\\\dot{x}_{2}\\\\- \\frac{G m_{1}}{x_{1}^{2} - 2.0 x_{1} x_{2} + x_{2}^{2}}\\end{matrix}\\right]$"
      ],
      "text/plain": [
       "       ⎡         x₁̇          ⎤\n",
       "       ⎢                     ⎥\n",
       "       ⎢        G⋅m₂         ⎥\n",
       "⎡x₁̇⎤   ⎢─────────────────────⎥\n",
       "⎢  ⎥   ⎢  2                 2⎥\n",
       "⎢x₁̈⎥   ⎢x₁  - 2.0⋅x₁⋅x₂ + x₂ ⎥\n",
       "⎢  ⎥ = ⎢                     ⎥\n",
       "⎢x₂̇⎥   ⎢         x₂̇          ⎥\n",
       "⎢  ⎥   ⎢                     ⎥\n",
       "⎣x₂̈⎦   ⎢       -G⋅m₁         ⎥\n",
       "       ⎢─────────────────────⎥\n",
       "       ⎢  2                 2⎥\n",
       "       ⎣x₁  - 2.0⋅x₁⋅x₂ + x₂ ⎦"
      ]
     },
     "execution_count": 3,
     "metadata": {},
     "output_type": "execute_result"
    }
   ],
   "source": [
    "# Euler-Lagrange Equation\n",
    "eqn_1 = diff( diff(L,x_1_dot), t) - diff(L, x_1)\n",
    "eqn_2 = diff( diff(L,x_2_dot), t) - diff(L, x_2)\n",
    "sln = solve([eqn_1, eqn_2], [x_1_ddot, x_2_ddot])\n",
    "\n",
    "# show the solution\n",
    "f = Matrix([x_1_dot, sln[x_1_ddot], x_2_dot, sln[x_2_ddot]])\n",
    "f = simplify(f)\n",
    "x = Matrix([x_1, x_1_dot, x_2, x_2_dot])\n",
    "x_dot = diff(x,t)\n",
    "\n",
    "Eq(x_dot, f)"
   ]
  },
  {
   "cell_type": "code",
   "execution_count": 4,
   "id": "04bf17c5-44e8-42ec-9c29-5e497899c852",
   "metadata": {},
   "outputs": [
    {
     "name": "stdout",
     "output_type": "stream",
     "text": [
      "f[0] = x_1_dot\n",
      "f[1] = G*m_2/(x_1**2 - 2.0*x_1*x_2 + x_2**2)\n",
      "f[2] = x_2_dot\n",
      "f[3] = -G*m_1/(x_1**2 - 2.0*x_1*x_2 + x_2**2)\n"
     ]
    }
   ],
   "source": [
    "g = f.subs({x_1: 'x_1', x_1_dot: 'x_1_dot', x_2: 'x_2', x_2_dot: 'x_2_dot'})\n",
    "for i in range(4):\n",
    "    print('f[{}] = {}'.format(i, g[i]))\n"
   ]
  },
  {
   "cell_type": "code",
   "execution_count": null,
   "id": "338ccd07-4666-47ae-b4d2-546387036275",
   "metadata": {},
   "outputs": [],
   "source": []
  }
 ],
 "metadata": {
  "kernelspec": {
   "display_name": "Python 3 (ipykernel)",
   "language": "python",
   "name": "python3"
  },
  "language_info": {
   "codemirror_mode": {
    "name": "ipython",
    "version": 3
   },
   "file_extension": ".py",
   "mimetype": "text/x-python",
   "name": "python",
   "nbconvert_exporter": "python",
   "pygments_lexer": "ipython3",
   "version": "3.11.1"
  }
 },
 "nbformat": 4,
 "nbformat_minor": 5
}
