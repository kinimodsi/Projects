{
 "cells": [
  {
   "cell_type": "code",
   "execution_count": 18,
   "id": "9f607000-604c-463d-ad38-f51cc587b433",
   "metadata": {},
   "outputs": [
    {
     "name": "stdout",
     "output_type": "stream",
     "text": [
      "['x_1_dot', 'G*m_2/(x_1**2 - 2.0*x_1*x_2 + x_2**2)', 'x_2_dot', '-G*m_1/(x_1**2 - 2.0*x_1*x_2 + x_2**2)']\n",
      "0\n",
      "1\n",
      "2\n",
      "3\n",
      "4\n",
      "5\n",
      "6\n",
      "7\n",
      "8\n",
      "9\n",
      "10\n",
      "11\n",
      "12\n",
      "13\n",
      "14\n",
      "15\n",
      "16\n",
      "17\n"
     ]
    },
    {
     "data": {
      "image/png": "[encoded data removed]",
      "text/plain": [
       "<Figure size 640x480 with 1 Axes>"
      ]
     },
     "metadata": {},
     "output_type": "display_data"
    }
   ],
   "source": [
    "import numpy as np\n",
    "import matplotlib.pyplot as plt\n",
    "from scipy.integrate import solve_ivp\n",
    "\n",
    "#### Simulate gravity ####\n",
    "# assign constants\n",
    "G = 6.6743 * 10**-11\n",
    "m_1 = 9**11\n",
    "m_2 = 10**11\n",
    "\n",
    "\n",
    "# initial conditions\n",
    "x_1_0=-2\n",
    "x_2_0=5\n",
    "x0 = np.array([x_1_0, -0.5, x_2_0, 0.4])\n",
    "\n",
    "\n",
    "%store -r ODE\n",
    "print(ODE)\n",
    "# our system of differential equations\n",
    "# see \"derivation.ipynb\" for details\n",
    "def Gravity_Sim_ODE(t, y):\n",
    "    x_1 = y[0]\n",
    "    x_1_dot = y[1]\n",
    "    x_2 = y[2]\n",
    "    x_2_dot = y[3]\n",
    "    ODEs=[]\n",
    "    for i in range(4):\n",
    "        ODEs.append(eval(ODE[i]))\n",
    "\n",
    "    return (ODEs)\n",
    "\n",
    "\n",
    "# solve the ODE, evaluate at 30 fps\n",
    "sol = solve_ivp(Gravity_Sim_ODE, [0, 10], x0, \n",
    "    t_eval=np.linspace(0,10,10*30))\n",
    "\n",
    "# output of the solver\n",
    "x_1 = sol.y[0]\n",
    "x_2 = sol.y[2]\n",
    "t = sol.t\n",
    "\n",
    "# plot theta and ell over time\n",
    "plt.plot(t, x_1, label=\"$x_1$\")\n",
    "plt.plot(t, x_2, label=\"$x_2$\")\n",
    "plt.legend()\n",
    "plt.grid()\n",
    "plt.xlabel(\"time (s)\")\n",
    "plt.title('Gravity Pull')\n",
    "plt.show()"
   ]
  },
  {
   "cell_type": "code",
   "execution_count": 17,
   "id": "df8bae86-3c6a-40d2-841c-601f91955f9c",
   "metadata": {},
   "outputs": [
    {
     "ename": "ModuleNotFoundError",
     "evalue": "No module named 'ffmpeg'",
     "output_type": "error",
     "traceback": [
      "\u001b[1;31m---------------------------------------------------------------------------\u001b[0m",
      "\u001b[1;31mModuleNotFoundError\u001b[0m                       Traceback (most recent call last)",
      "Cell \u001b[1;32mIn[17], line 3\u001b[0m\n\u001b[0;32m      1\u001b[0m \u001b[38;5;66;03m# Animate the spring pendulum\u001b[39;00m\n\u001b[0;32m      2\u001b[0m \u001b[38;5;28;01mimport\u001b[39;00m \u001b[38;5;21;01mmatplotlib\u001b[39;00m\u001b[38;5;21;01m.\u001b[39;00m\u001b[38;5;21;01manimation\u001b[39;00m \u001b[38;5;28;01mas\u001b[39;00m \u001b[38;5;21;01manimation\u001b[39;00m\n\u001b[1;32m----> 3\u001b[0m \u001b[38;5;28;01mfrom\u001b[39;00m \u001b[38;5;21;01mffmpeg\u001b[39;00m \u001b[38;5;28;01mimport\u001b[39;00m FFmpeg\n\u001b[0;32m      4\u001b[0m \u001b[38;5;28;01mfrom\u001b[39;00m \u001b[38;5;21;01mPIL\u001b[39;00m \u001b[38;5;28;01mimport\u001b[39;00m Image\n\u001b[0;32m      5\u001b[0m \u001b[38;5;28;01mfrom\u001b[39;00m \u001b[38;5;21;01mmatplotlib\u001b[39;00m\u001b[38;5;21;01m.\u001b[39;00m\u001b[38;5;21;01mlines\u001b[39;00m \u001b[38;5;28;01mimport\u001b[39;00m Line2D\n",
      "\u001b[1;31mModuleNotFoundError\u001b[0m: No module named 'ffmpeg'"
     ]
    }
   ],
   "source": [
    "# Animate the spring pendulum\n",
    "import matplotlib.animation as animation\n",
    "from ffmpeg import FFmpeg\n",
    "from PIL import Image\n",
    "from matplotlib.lines import Line2D\n",
    "from matplotlib.transforms import Affine2D\n",
    "from matplotlib.patches import Circle\n",
    "# output of the solver\n",
    "x_1 = sol.y[0]\n",
    "x_2 = sol.y[2]\n",
    "t = sol.t\n",
    "\n",
    "fig = plt.figure()\n",
    "ax = fig.add_subplot(aspect='equal')\n",
    "ax.set_xlim(-10, 40)\n",
    "ax.set_ylim(-2, 2)\n",
    "\n",
    "s_1= m_1/max([m_1,m_2])*1.5\n",
    "s_2= m_2/max([m_1,m_2])*1.5\n",
    "\n",
    "\n",
    "circle1 = ax.add_patch(Circle((x_1_0,0), s_1, fc='b'))\n",
    "circle2 = ax.add_patch(Circle((x_2_0,0), s_2, fc='r'))\n",
    "\n",
    "plt.show\n",
    "plt.savefig('gravity_sim.png')\n",
    "#animate each frame \"i\"\n",
    "def animate(i):\n",
    "\n",
    "    px_1 = x_1[i]\n",
    "    px_2 = x_2[i]\n",
    "    circle1.set_center((px_1, 0))\n",
    "    circle2.set_center((px_2, 0))\n",
    "    \n",
    "\n",
    "# save a video: 30 fps\n",
    "ani = animation.FuncAnimation(fig, animate, frames=len(t))\n",
    "\n",
    "# Convert animation to a GIF\n",
    "ani.save('gravity_sim.gif', writer='pillow', fps=30)"
   ]
  },
  {
   "cell_type": "code",
   "execution_count": null,
   "id": "66938bd7-3a3e-4c99-b08b-803cd2aa8703",
   "metadata": {},
   "outputs": [],
   "source": []
  }
 ],
 "metadata": {
  "kernelspec": {
   "display_name": "Python 3 (ipykernel)",
   "language": "python",
   "name": "python3"
  },
  "language_info": {
   "codemirror_mode": {
    "name": "ipython",
    "version": 3
   },
   "file_extension": ".py",
   "mimetype": "text/x-python",
   "name": "python",
   "nbconvert_exporter": "python",
   "pygments_lexer": "ipython3",
   "version": "3.11.3"
  }
 },
 "nbformat": 4,
 "nbformat_minor": 5
}
